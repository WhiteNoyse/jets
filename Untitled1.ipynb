{
 "cells": [
  {
   "cell_type": "code",
   "execution_count": 1,
   "metadata": {},
   "outputs": [],
   "source": [
    "import torch\n",
    "import time\n",
    "from src.architectures.jet_transforms.nmp.sparsegraphgen import sparse_topk, sparse\n",
    "from ilya.src.utils.utils_pt import sparse_cat"
   ]
  },
  {
   "cell_type": "code",
   "execution_count": 21,
   "metadata": {
    "collapsed": true
   },
   "outputs": [],
   "source": [
    "%matplotlib inline\n",
    "\n",
    "import matplotlib\n",
    "import numpy as np\n",
    "import matplotlib.pyplot as plt"
   ]
  },
  {
   "cell_type": "code",
   "execution_count": 36,
   "metadata": {},
   "outputs": [],
   "source": [
    "k = 10\n",
    "d = 64\n",
    "bs = 128\n",
    "n = 80\n",
    "reps = 1"
   ]
  },
  {
   "cell_type": "code",
   "execution_count": null,
   "metadata": {},
   "outputs": [],
   "source": []
  },
  {
   "cell_type": "code",
   "execution_count": 37,
   "metadata": {},
   "outputs": [],
   "source": [
    "\n",
    "def time_sparse_topk(reps, bs, n, k, d):\n",
    "    import time\n",
    "    t = time.time()\n",
    "    for i in range(reps):\n",
    "        S = torch.round(torch.rand(bs,n,n) + 100)\n",
    "        sps = [sparse_topk(m, k) for m in S]\n",
    "        vecs = [torch.bernoulli(0.1 * torch.ones(n,d)) for i in range(bs)]\n",
    "        #for i, (s, v) in enumerate(zip(sps, vecs)):\n",
    "        outs = torch.stack([sp.mm(v) for sp, v in zip(sps, vecs)],0)\n",
    "    \n",
    "\n",
    "    t = (time.time() - t) / reps\n",
    "    #print(\"{:.1f}\".format(t))\n",
    "    return t\n"
   ]
  },
  {
   "cell_type": "code",
   "execution_count": 38,
   "metadata": {},
   "outputs": [
    {
     "data": {
      "text/plain": [
       "0.3338019847869873"
      ]
     },
     "execution_count": 38,
     "metadata": {},
     "output_type": "execute_result"
    }
   ],
   "source": [
    "time_sparse_topk(reps,bs,n,k,d)"
   ]
  },
  {
   "cell_type": "code",
   "execution_count": 41,
   "metadata": {},
   "outputs": [],
   "source": [
    "Nrange = [100,200,300,400,500,600,700,800,900,1000]\n",
    "yvals = [time_sparse_topk(reps, bs, N, k, d) for N in Nrange]\n"
   ]
  },
  {
   "cell_type": "code",
   "execution_count": 42,
   "metadata": {},
   "outputs": [
    {
     "data": {
      "text/plain": [
       "[<matplotlib.lines.Line2D at 0x1a26af57b8>]"
      ]
     },
     "execution_count": 42,
     "metadata": {},
     "output_type": "execute_result"
    },
    {
     "data": {
      "image/png": "[encoded data removed]",
      "text/plain": [
       "<Figure size 432x288 with 1 Axes>"
      ]
     },
     "metadata": {},
     "output_type": "display_data"
    }
   ],
   "source": [
    "plt.plot(Nrange, yvals)"
   ]
  },
  {
   "cell_type": "markdown",
   "metadata": {},
   "source": [
    "s.mm(vec.to_dense())"
   ]
  },
  {
   "cell_type": "code",
   "execution_count": 50,
   "metadata": {},
   "outputs": [
    {
     "data": {
      "text/plain": [
       "\n",
       "   40    37     5     0     0     0     0\n",
       "   35     0     0    44    28     0     0\n",
       "    0     0    11     0    30    21     0\n",
       "    0     0     0     0    11    22     4\n",
       "    0    47    27     0     0     0    44\n",
       "   45     0     0    24     0    18     0\n",
       "    0     0    37     0    21     0    20\n",
       "[torch.FloatTensor of size (7,7)]"
      ]
     },
     "execution_count": 50,
     "metadata": {},
     "output_type": "execute_result"
    }
   ],
   "source": [
    "\n"
   ]
  },
  {
   "cell_type": "code",
   "execution_count": 158,
   "metadata": {},
   "outputs": [
    {
     "name": "stdout",
     "output_type": "stream",
     "text": [
      "0.6\n"
     ]
    }
   ],
   "source": []
  },
  {
   "cell_type": "code",
   "execution_count": 147,
   "metadata": {},
   "outputs": [],
   "source": []
  },
  {
   "cell_type": "code",
   "execution_count": 149,
   "metadata": {},
   "outputs": [
    {
     "name": "stdout",
     "output_type": "stream",
     "text": [
      "0.6\n"
     ]
    }
   ],
   "source": []
  },
  {
   "cell_type": "code",
   "execution_count": 82,
   "metadata": {},
   "outputs": [
    {
     "name": "stdout",
     "output_type": "stream",
     "text": [
      "\n",
      "  0   0   9  -6  28\n",
      " 45   0  24   0  20\n",
      "  0  33  38   0  41\n",
      " 21   3   0   0  30\n",
      "-31  39 -32   0   0\n",
      "[torch.FloatTensor of size (5,5)]\n",
      "\n"
     ]
    }
   ],
   "source": []
  },
  {
   "cell_type": "code",
   "execution_count": 81,
   "metadata": {},
   "outputs": [
    {
     "name": "stdout",
     "output_type": "stream",
     "text": [
      "\n",
      "  0   0   9  -6  28\n",
      " 45   0  24   0  20\n",
      "  0  33  38   0  41\n",
      " 21   3   0   0  30\n",
      "-31  39 -32   0   0\n",
      "[torch.FloatTensor of size (5,5)]\n",
      "\n"
     ]
    }
   ],
   "source": [
    "print(sparse_topk(S,k).to_dense())"
   ]
  },
  {
   "cell_type": "code",
   "execution_count": 70,
   "metadata": {},
   "outputs": [],
   "source": []
  },
  {
   "cell_type": "code",
   "execution_count": 84,
   "metadata": {},
   "outputs": [
    {
     "name": "stdout",
     "output_type": "stream",
     "text": [
      "\n",
      "(0 ,.,.) = \n",
      "  11 -38  -2 -23  33\n",
      " -28  29 -29 -37 -45\n",
      " -37 -33  35 -27 -46\n",
      " -31   1 -30 -47 -12\n",
      "  48 -25 -30  27 -26\n",
      "\n",
      "(1 ,.,.) = \n",
      "  49  46  25 -22 -41\n",
      "  44  38  -7 -49  25\n",
      " -44  28 -37 -41 -25\n",
      " -24 -11  23  -3  24\n",
      "  12  -2  -9   3  -3\n",
      "\n",
      "(2 ,.,.) = \n",
      "   8   3  34  -5  31\n",
      " -19  16  43 -45 -15\n",
      "  11 -47 -12 -28 -19\n",
      "   4  -8  27 -49  32\n",
      " -11  -4 -40   4  -1\n",
      "[torch.FloatTensor of size (3,5,5)]\n",
      "\n"
     ]
    }
   ],
   "source": [
    "bs = 3\n",
    "S = torch.round(torch.rand(bs, n,n) * 100 - 50)\n",
    "print(S)"
   ]
  },
  {
   "cell_type": "code",
   "execution_count": 85,
   "metadata": {},
   "outputs": [],
   "source": [
    "sparse = [sparse_topk(m, k) for m in S]"
   ]
  },
  {
   "cell_type": "code",
   "execution_count": 87,
   "metadata": {},
   "outputs": [
    {
     "name": "stdout",
     "output_type": "stream",
     "text": [
      "\n",
      " 11   0  -2   0  33\n",
      "-28  29 -29   0   0\n",
      "  0 -33  35 -27   0\n",
      "  0   1 -30   0 -12\n",
      " 48 -25   0  27   0\n",
      "[torch.FloatTensor of size (5,5)]\n",
      "\n",
      "\n",
      " 49  46  25   0   0\n",
      " 44  38   0   0  25\n",
      "  0  28 -37   0 -25\n",
      "  0   0  23  -3  24\n",
      " 12  -2   0   3   0\n",
      "[torch.FloatTensor of size (5,5)]\n",
      "\n",
      "\n",
      "  8   0  34   0  31\n",
      "  0  16  43   0 -15\n",
      " 11   0 -12   0 -19\n",
      "  4   0  27   0  32\n",
      "  0  -4   0   4  -1\n",
      "[torch.FloatTensor of size (5,5)]\n",
      "\n"
     ]
    }
   ],
   "source": [
    "for s in sparse:\n",
    "    print(s.to_dense())"
   ]
  },
  {
   "cell_type": "code",
   "execution_count": 89,
   "metadata": {},
   "outputs": [],
   "source": [
    "sparse_catd = sparse_cat(sparse, n,n)"
   ]
  },
  {
   "cell_type": "code",
   "execution_count": 96,
   "metadata": {},
   "outputs": [
    {
     "name": "stdout",
     "output_type": "stream",
     "text": [
      "\n",
      "\n",
      "Columns 0 to 12 \n",
      "    0     0     0     0     0     0     0     0     0     0     0     0     0\n",
      "    0     0     0     1     1     1     2     2     2     3     3     3     4\n",
      "    0     2     4     0     1     2     1     2     3     1     2     4     0\n",
      "\n",
      "Columns 13 to 25 \n",
      "    0     0     1     1     1     1     1     1     1     1     1     1     1\n",
      "    4     4     0     0     0     1     1     1     2     2     2     3     3\n",
      "    1     3     0     1     2     0     1     4     1     2     4     2     3\n",
      "\n",
      "Columns 26 to 38 \n",
      "    1     1     1     1     2     2     2     2     2     2     2     2     2\n",
      "    3     4     4     4     0     0     0     1     1     1     2     2     2\n",
      "    4     0     1     3     0     2     4     1     2     4     0     2     4\n",
      "\n",
      "Columns 39 to 44 \n",
      "    2     2     2     2     2     2\n",
      "    3     3     3     4     4     4\n",
      "    0     2     4     1     3     4\n",
      "[torch.LongTensor of size (3,45)]\n",
      "\n"
     ]
    }
   ],
   "source": [
    "print(sparse_catd._indices())"
   ]
  },
  {
   "cell_type": "code",
   "execution_count": 99,
   "metadata": {},
   "outputs": [
    {
     "name": "stdout",
     "output_type": "stream",
     "text": [
      "\n",
      "\n",
      "Columns 0 to 12 \n",
      "    0     0     0     1     1     1     2     2     2     3     3     3     4\n",
      "    4     0     2     1     0     2     2     3     1     1     4     2     0\n",
      "\n",
      "Columns 13 to 14 \n",
      "    4     4\n",
      "    3     1\n",
      "[torch.LongTensor of size (2,15)]\n",
      "\n",
      "\n",
      "\n",
      "Columns 0 to 12 \n",
      "    0     0     0     1     1     1     2     2     2     3     3     3     4\n",
      "    0     1     2     0     1     4     1     4     2     4     2     3     0\n",
      "\n",
      "Columns 13 to 14 \n",
      "    4     4\n",
      "    3     1\n",
      "[torch.LongTensor of size (2,15)]\n",
      "\n",
      "\n",
      "\n",
      "Columns 0 to 12 \n",
      "    0     0     0     1     1     1     2     2     2     3     3     3     4\n",
      "    2     4     0     2     1     4     0     2     4     4     2     0     3\n",
      "\n",
      "Columns 13 to 14 \n",
      "    4     4\n",
      "    4     1\n",
      "[torch.LongTensor of size (2,15)]\n",
      "\n"
     ]
    }
   ],
   "source": [
    "for s in sparse:\n",
    "    print(s._indices())"
   ]
  },
  {
   "cell_type": "code",
   "execution_count": null,
   "metadata": {
    "collapsed": true
   },
   "outputs": [],
   "source": []
  }
 ],
 "metadata": {
  "kernelspec": {
   "display_name": "Python 3",
   "language": "python",
   "name": "python3"
  },
  "language_info": {
   "codemirror_mode": {
    "name": "ipython",
    "version": 3
   },
   "file_extension": ".py",
   "mimetype": "text/x-python",
   "name": "python",
   "nbconvert_exporter": "python",
   "pygments_lexer": "ipython3",
   "version": "3.6.0"
  }
 },
 "nbformat": 4,
 "nbformat_minor": 2
}
